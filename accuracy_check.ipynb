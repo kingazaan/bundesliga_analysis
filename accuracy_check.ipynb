{
 "metadata": {
  "language_info": {
   "codemirror_mode": {
    "name": "ipython",
    "version": 3
   },
   "file_extension": ".py",
   "mimetype": "text/x-python",
   "name": "python",
   "nbconvert_exporter": "python",
   "pygments_lexer": "ipython3",
   "version": "3.7.3"
  },
  "orig_nbformat": 2,
  "kernelspec": {
   "name": "python373jvsc74a57bd0b3ba2566441a7c06988d0923437866b63cedc61552a5af99d1f4fb67d367b25f",
   "display_name": "Python 3.7.3 64-bit ('base': conda)"
  }
 },
 "nbformat": 4,
 "nbformat_minor": 2,
 "cells": [
  {
   "cell_type": "code",
   "execution_count": 1,
   "metadata": {},
   "outputs": [],
   "source": [
    "import os\n",
    "import numpy as np\n",
    "import pandas as pd\n",
    "import pandasql as psql"
   ]
  },
  {
   "cell_type": "code",
   "execution_count": 2,
   "metadata": {},
   "outputs": [],
   "source": [
    "os.chdir(\"C:/Users/ab/Documents/GitHub/serie_a_analysis\")"
   ]
  },
  {
   "cell_type": "code",
   "execution_count": 86,
   "metadata": {},
   "outputs": [
    {
     "output_type": "stream",
     "name": "stdout",
     "text": [
      "   position      Club  Standing\n0         0  Juventus        92\n1         1      Roma        91\n2         2    Napoli        83\n3         3     Inter        77\n4         4     Milan        73\n   spot      Team  Points\n0     0     Inter      68\n1     1     Milan      60\n2     2  Atalanta      58\n3     3  Juventus      56\n4     4    Napoli      56\n"
     ]
    }
   ],
   "source": [
    "#trying to get the position these teams finished so that I can compare the difference, and generate a score\n",
    "#NOTE: the word \"index\" or \"Index\" does not do well with Pandasql, I'm not sure why\n",
    "\n",
    "temp1 = pd.read_csv('predictions.csv')\n",
    "temp1 = temp1.reset_index()\n",
    "temp1 = temp1.drop(columns=['Index'])\n",
    "temp1 = temp1.rename(columns={'index': 'position'})\n",
    "temp2 = pd.read_csv('current_standings.csv')\n",
    "temp2 = temp2.reset_index()\n",
    "# temp2 = temp2.drop(columns=['index'])\n",
    "temp2 = temp2.rename(columns={'index': 'spot'})\n",
    "print(temp1.head())\n",
    "print(temp2.head())"
   ]
  },
  {
   "cell_type": "code",
   "execution_count": 88,
   "metadata": {},
   "outputs": [
    {
     "output_type": "stream",
     "name": "stdout",
     "text": [
      "          Club  Predicted  Actual\n0     Juventus          0       3\n1         Roma          1       6\n2       Napoli          2       4\n3        Inter          3       0\n4        Milan          4       1\n5    Sampdoria          5       9\n6        Lazio          6       5\n7        Genoa          7      12\n8   Fiorentina          8      13\n9     Atalanta          9       2\n10    Cagliari         10      17\n11       Parma         11      18\n12     Udinese         12      11\n13     Bologna         13      10\n14      Torino         14      16\n15    Sassuolo         16       8\n16      Verona         20       7\n17   Benevento         31      14\n18      Spezia         33      15\n19     Crotone         34      19\n"
     ]
    }
   ],
   "source": [
    "df = psql.sqldf(\"SELECT Club, position as Predicted, spot as Actual FROM temp1 LEFT OUTER JOIN temp2 ON temp1.Club = temp2.Team WHERE temp1.Club IS temp2.Team\")\n",
    "print(df)"
   ]
  },
  {
   "cell_type": "code",
   "execution_count": 113,
   "metadata": {},
   "outputs": [
    {
     "output_type": "stream",
     "name": "stdout",
     "text": [
      "129\n"
     ]
    }
   ],
   "source": [
    "#determine how to score the predicted table \n",
    "\n",
    "best_score = 0\n",
    "worst_score = 20*20\n",
    "score = sum(abs(df['Predicted'] - df['Actual']))\n",
    "print(score)"
   ]
  },
  {
   "cell_type": "code",
   "execution_count": 97,
   "metadata": {},
   "outputs": [
    {
     "output_type": "stream",
     "name": "stdout",
     "text": [
      "67.75 %\n"
     ]
    }
   ],
   "source": [
    "percentage = (1 - (score/worst_score)) * 100\n",
    "print(percentage, \"%\")"
   ]
  }
 ]
}